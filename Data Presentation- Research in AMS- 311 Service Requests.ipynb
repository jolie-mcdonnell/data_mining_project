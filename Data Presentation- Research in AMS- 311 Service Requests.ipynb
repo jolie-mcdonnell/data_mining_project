{
 "cells": [
  {
   "cell_type": "markdown",
   "id": "746570d3",
   "metadata": {},
   "source": [
    "<hr/>\n",
    "\n",
    "# Data Presentation- 311 Service Requests <br> **https://data.boston.gov/dataset/311-service-requests** \n",
    "\n",
    "<hr/>"
   ]
  },
  {
   "cell_type": "markdown",
   "id": "ab261545",
   "metadata": {},
   "source": [
    "# 1. Purpose of dataset\n",
    "> 311 is a 24/7 line that connects citizens with Service Center representatives for non-emergency city services and information <br>\n",
    "> It is predominantly known for maintenance requests of public works"
   ]
  },
  {
   "cell_type": "markdown",
   "id": "c3095d79",
   "metadata": {},
   "source": [
    "# 2. Features of dataset\n",
    "- CLOSURE_REASON \n",
    "> Employees give a closure status & depict findings or work done that closed the case <br>\n",
    "> i.e. resolved loose trash, no violation found, sent in for collection, etc \n",
    "\n",
    "- CLOSURE_STATUS \n",
    "> Denoted the status of the case when it was closed <br>\n",
    "> i.e. RESOLVED, NOTED, CLOSED, PERMIS (permit issued), TFA (tenant failed appointment), INVALID, NOVIO (no violation), SCHEDULED, ROA (refer to another agency), NOBASE (no basis for caller complaints), NOACC (no access to issue or problem area) \n",
    "\n",
    "- CASE_TITLE\n",
    "> Basic title given to each case (entered by call takers on call-by-call basis) <br>\n",
    "> SUBJECT, REASON, and TYPE also assigned to generalize issue\n",
    "\n",
    "- DEPARTMENT \n",
    "> Department a case is assigned to <br>\n",
    "> i.e. public works, inspectional services, animal control, etc\n",
    "\n",
    "- NEIGHBORHOOD and LOCATION_ZIPCODE\n",
    "> Depict where the call came from <br>\n",
    "> More information on exact location also provided\n",
    "\n",
    "- EXTRANEOUS FEATURES\n",
    "> ID, ONTIME, QUEUE, SUBMITTED PHOTO, CLOSED PHOTO, LOCATION, FIRE_DISTRICT, POLICE_DISTRICT, CITY_COUNCIL_DISTRICT, PWD_DISTRICT (public works), NEIGHBORHOOD_SERVICES_DISTRICT, WARD, PRECINCT, LOCATION_STREET_NAME, LATITUDE, LONGITUDE, SOURCE"
   ]
  },
  {
   "cell_type": "markdown",
   "id": "ea66010a",
   "metadata": {},
   "source": [
    "# 3. Importing and viewing dataset"
   ]
  },
  {
   "cell_type": "code",
   "execution_count": 15,
   "id": "e572e848",
   "metadata": {},
   "outputs": [
    {
     "data": {
      "text/html": [
       "<div>\n",
       "<style scoped>\n",
       "    .dataframe tbody tr th:only-of-type {\n",
       "        vertical-align: middle;\n",
       "    }\n",
       "\n",
       "    .dataframe tbody tr th {\n",
       "        vertical-align: top;\n",
       "    }\n",
       "\n",
       "    .dataframe thead th {\n",
       "        text-align: right;\n",
       "    }\n",
       "</style>\n",
       "<table border=\"1\" class=\"dataframe\">\n",
       "  <thead>\n",
       "    <tr style=\"text-align: right;\">\n",
       "      <th></th>\n",
       "      <th>0</th>\n",
       "      <th>1</th>\n",
       "      <th>2</th>\n",
       "      <th>3</th>\n",
       "      <th>4</th>\n",
       "      <th>5</th>\n",
       "      <th>6</th>\n",
       "      <th>7</th>\n",
       "      <th>8</th>\n",
       "      <th>9</th>\n",
       "      <th>...</th>\n",
       "      <th>19</th>\n",
       "      <th>20</th>\n",
       "      <th>21</th>\n",
       "      <th>22</th>\n",
       "      <th>23</th>\n",
       "      <th>24</th>\n",
       "      <th>25</th>\n",
       "      <th>26</th>\n",
       "      <th>27</th>\n",
       "      <th>28</th>\n",
       "    </tr>\n",
       "  </thead>\n",
       "  <tbody>\n",
       "    <tr>\n",
       "      <th>0</th>\n",
       "      <td>case_enquiry_id</td>\n",
       "      <td>open_dt</td>\n",
       "      <td>target_dt</td>\n",
       "      <td>closed_dt</td>\n",
       "      <td>ontime</td>\n",
       "      <td>case_status</td>\n",
       "      <td>closure_reason</td>\n",
       "      <td>case_title</td>\n",
       "      <td>subject</td>\n",
       "      <td>reason</td>\n",
       "      <td>...</td>\n",
       "      <td>police_district</td>\n",
       "      <td>neighborhood</td>\n",
       "      <td>neighborhood_services_district</td>\n",
       "      <td>ward</td>\n",
       "      <td>precinct</td>\n",
       "      <td>location_street_name</td>\n",
       "      <td>location_zipcode</td>\n",
       "      <td>latitude</td>\n",
       "      <td>longitude</td>\n",
       "      <td>source</td>\n",
       "    </tr>\n",
       "    <tr>\n",
       "      <th>1</th>\n",
       "      <td>101003578872</td>\n",
       "      <td>2021-01-01 00:06:37</td>\n",
       "      <td>2021-01-06 08:30:00</td>\n",
       "      <td>2021-01-01 05:36:42</td>\n",
       "      <td>ONTIME</td>\n",
       "      <td>Closed</td>\n",
       "      <td>Case Closed. Closed date : Fri Jan 01 05:36:42...</td>\n",
       "      <td>Improper Storage of Trash (Barrels)</td>\n",
       "      <td>Public Works Department</td>\n",
       "      <td>Code Enforcement</td>\n",
       "      <td>...</td>\n",
       "      <td>C11</td>\n",
       "      <td>Dorchester</td>\n",
       "      <td>5</td>\n",
       "      <td>Ward 7</td>\n",
       "      <td>0709</td>\n",
       "      <td>797 Columbia Rd</td>\n",
       "      <td>02125</td>\n",
       "      <td>42.3202</td>\n",
       "      <td>-71.0572</td>\n",
       "      <td>Citizens Connect App</td>\n",
       "    </tr>\n",
       "    <tr>\n",
       "      <th>2</th>\n",
       "      <td>101003578875</td>\n",
       "      <td>2021-01-01 00:15:47</td>\n",
       "      <td>2021-01-05 08:30:00</td>\n",
       "      <td>2021-01-02 12:49:26</td>\n",
       "      <td>ONTIME</td>\n",
       "      <td>Closed</td>\n",
       "      <td>Case Closed. Closed date : 2021-01-02 12:49:26...</td>\n",
       "      <td>Parking Enforcement</td>\n",
       "      <td>Transportation - Traffic Division</td>\n",
       "      <td>Enforcement &amp; Abandoned Vehicles</td>\n",
       "      <td>...</td>\n",
       "      <td>D14</td>\n",
       "      <td>Allston / Brighton</td>\n",
       "      <td>15</td>\n",
       "      <td>Ward 22</td>\n",
       "      <td>2211</td>\n",
       "      <td>50 Newton St</td>\n",
       "      <td>02135</td>\n",
       "      <td>42.3569</td>\n",
       "      <td>-71.165</td>\n",
       "      <td>Citizens Connect App</td>\n",
       "    </tr>\n",
       "    <tr>\n",
       "      <th>3</th>\n",
       "      <td>101003578879</td>\n",
       "      <td>2021-01-01 00:26:46</td>\n",
       "      <td>NaN</td>\n",
       "      <td>2021-01-04 13:56:41</td>\n",
       "      <td>ONTIME</td>\n",
       "      <td>Closed</td>\n",
       "      <td>Case Closed. Closed date : 2021-01-04 13:56:41...</td>\n",
       "      <td>Notification</td>\n",
       "      <td>Mayor's 24 Hour Hotline</td>\n",
       "      <td>Notification</td>\n",
       "      <td>...</td>\n",
       "      <td>B2</td>\n",
       "      <td>Dorchester</td>\n",
       "      <td>13</td>\n",
       "      <td>13</td>\n",
       "      <td>1305</td>\n",
       "      <td>693 Dudley St</td>\n",
       "      <td>02125</td>\n",
       "      <td>42.3594</td>\n",
       "      <td>-71.0587</td>\n",
       "      <td>Constituent Call</td>\n",
       "    </tr>\n",
       "    <tr>\n",
       "      <th>4</th>\n",
       "      <td>101003578880</td>\n",
       "      <td>2021-01-01 00:27:00</td>\n",
       "      <td>NaN</td>\n",
       "      <td>2021-03-18 03:02:40</td>\n",
       "      <td>ONTIME</td>\n",
       "      <td>Closed</td>\n",
       "      <td>Case Closed Case Noted</td>\n",
       "      <td>Fire</td>\n",
       "      <td>Mayor's 24 Hour Hotline</td>\n",
       "      <td>Notification</td>\n",
       "      <td>...</td>\n",
       "      <td>B2</td>\n",
       "      <td>Dorchester</td>\n",
       "      <td>13</td>\n",
       "      <td>7</td>\n",
       "      <td>0710</td>\n",
       "      <td>INTERSECTION Nonquit St &amp; Dudley St</td>\n",
       "      <td>NaN</td>\n",
       "      <td>42.3594</td>\n",
       "      <td>-71.0587</td>\n",
       "      <td>Constituent Call</td>\n",
       "    </tr>\n",
       "    <tr>\n",
       "      <th>5</th>\n",
       "      <td>101003578881</td>\n",
       "      <td>2021-01-01 00:36:34</td>\n",
       "      <td>2021-01-07 08:30:00</td>\n",
       "      <td>2021-01-01 05:43:25</td>\n",
       "      <td>ONTIME</td>\n",
       "      <td>Closed</td>\n",
       "      <td>Case Closed. Closed date : Fri Jan 01 05:43:25...</td>\n",
       "      <td>Poor Conditions of Property</td>\n",
       "      <td>Public Works Department</td>\n",
       "      <td>Code Enforcement</td>\n",
       "      <td>...</td>\n",
       "      <td>C11</td>\n",
       "      <td>Dorchester</td>\n",
       "      <td>7</td>\n",
       "      <td>Ward 13</td>\n",
       "      <td>1306</td>\n",
       "      <td>83-93 Stoughton St</td>\n",
       "      <td>02125</td>\n",
       "      <td>42.3157</td>\n",
       "      <td>-71.0623</td>\n",
       "      <td>Citizens Connect App</td>\n",
       "    </tr>\n",
       "    <tr>\n",
       "      <th>6</th>\n",
       "      <td>101003578883</td>\n",
       "      <td>2021-01-01 00:38:15</td>\n",
       "      <td>2021-01-07 08:30:00</td>\n",
       "      <td>2021-01-01 05:50:34</td>\n",
       "      <td>ONTIME</td>\n",
       "      <td>Closed</td>\n",
       "      <td>Case Closed. Closed date : Fri Jan 01 05:50:34...</td>\n",
       "      <td>Poor Conditions of Property</td>\n",
       "      <td>Public Works Department</td>\n",
       "      <td>Code Enforcement</td>\n",
       "      <td>...</td>\n",
       "      <td>C11</td>\n",
       "      <td>Dorchester</td>\n",
       "      <td>7</td>\n",
       "      <td>Ward 13</td>\n",
       "      <td>1306</td>\n",
       "      <td>14 Windermere Rd</td>\n",
       "      <td>02125</td>\n",
       "      <td>42.3146</td>\n",
       "      <td>-71.0621</td>\n",
       "      <td>Citizens Connect App</td>\n",
       "    </tr>\n",
       "    <tr>\n",
       "      <th>7</th>\n",
       "      <td>101003578887</td>\n",
       "      <td>2021-01-01 01:44:00</td>\n",
       "      <td>2021-01-07 08:30:00</td>\n",
       "      <td>2021-01-04 08:48:56</td>\n",
       "      <td>ONTIME</td>\n",
       "      <td>Closed</td>\n",
       "      <td>Case Closed. Closed date : 2021-01-04 08:48:56...</td>\n",
       "      <td>Work Hours-Loud Noise Complaints</td>\n",
       "      <td>Public Works Department</td>\n",
       "      <td>Highway Maintenance</td>\n",
       "      <td>...</td>\n",
       "      <td>D14</td>\n",
       "      <td>Allston / Brighton</td>\n",
       "      <td>15</td>\n",
       "      <td>21</td>\n",
       "      <td>2115</td>\n",
       "      <td>INTERSECTION Strathmore Rd &amp; Sutherland Rd</td>\n",
       "      <td>NaN</td>\n",
       "      <td>42.3594</td>\n",
       "      <td>-71.0587</td>\n",
       "      <td>Constituent Call</td>\n",
       "    </tr>\n",
       "    <tr>\n",
       "      <th>8</th>\n",
       "      <td>101003578889</td>\n",
       "      <td>2021-01-01 01:46:00</td>\n",
       "      <td>2021-01-05 08:30:00</td>\n",
       "      <td>2021-01-02 12:53:10</td>\n",
       "      <td>ONTIME</td>\n",
       "      <td>Closed</td>\n",
       "      <td>Case Closed. Closed date : 2021-01-02 12:53:10...</td>\n",
       "      <td>Parking Enforcement</td>\n",
       "      <td>Transportation - Traffic Division</td>\n",
       "      <td>Enforcement &amp; Abandoned Vehicles</td>\n",
       "      <td>...</td>\n",
       "      <td>B2</td>\n",
       "      <td>Roxbury</td>\n",
       "      <td>13</td>\n",
       "      <td>12</td>\n",
       "      <td>1203</td>\n",
       "      <td>INTERSECTION Elmore St &amp; Kensington St</td>\n",
       "      <td>NaN</td>\n",
       "      <td>42.3594</td>\n",
       "      <td>-71.0587</td>\n",
       "      <td>Constituent Call</td>\n",
       "    </tr>\n",
       "    <tr>\n",
       "      <th>9</th>\n",
       "      <td>101003578890</td>\n",
       "      <td>2021-01-01 02:49:00</td>\n",
       "      <td>2021-01-05 08:30:00</td>\n",
       "      <td>2021-01-01 03:17:49</td>\n",
       "      <td>ONTIME</td>\n",
       "      <td>Closed</td>\n",
       "      <td>Case Closed. Closed date : Fri Jan 01 03:17:49...</td>\n",
       "      <td>Requests for Street Cleaning</td>\n",
       "      <td>Public Works Department</td>\n",
       "      <td>Street Cleaning</td>\n",
       "      <td>...</td>\n",
       "      <td>B2</td>\n",
       "      <td>Mission Hill</td>\n",
       "      <td>14</td>\n",
       "      <td>10</td>\n",
       "      <td>1003</td>\n",
       "      <td>INTERSECTION Wait St &amp; Huntington Ave</td>\n",
       "      <td>NaN</td>\n",
       "      <td>42.3594</td>\n",
       "      <td>-71.0587</td>\n",
       "      <td>Constituent Call</td>\n",
       "    </tr>\n",
       "  </tbody>\n",
       "</table>\n",
       "<p>10 rows × 29 columns</p>\n",
       "</div>"
      ],
      "text/plain": [
       "                0                    1                    2   \\\n",
       "0  case_enquiry_id              open_dt            target_dt   \n",
       "1     101003578872  2021-01-01 00:06:37  2021-01-06 08:30:00   \n",
       "2     101003578875  2021-01-01 00:15:47  2021-01-05 08:30:00   \n",
       "3     101003578879  2021-01-01 00:26:46                  NaN   \n",
       "4     101003578880  2021-01-01 00:27:00                  NaN   \n",
       "5     101003578881  2021-01-01 00:36:34  2021-01-07 08:30:00   \n",
       "6     101003578883  2021-01-01 00:38:15  2021-01-07 08:30:00   \n",
       "7     101003578887  2021-01-01 01:44:00  2021-01-07 08:30:00   \n",
       "8     101003578889  2021-01-01 01:46:00  2021-01-05 08:30:00   \n",
       "9     101003578890  2021-01-01 02:49:00  2021-01-05 08:30:00   \n",
       "\n",
       "                    3       4            5   \\\n",
       "0            closed_dt  ontime  case_status   \n",
       "1  2021-01-01 05:36:42  ONTIME       Closed   \n",
       "2  2021-01-02 12:49:26  ONTIME       Closed   \n",
       "3  2021-01-04 13:56:41  ONTIME       Closed   \n",
       "4  2021-03-18 03:02:40  ONTIME       Closed   \n",
       "5  2021-01-01 05:43:25  ONTIME       Closed   \n",
       "6  2021-01-01 05:50:34  ONTIME       Closed   \n",
       "7  2021-01-04 08:48:56  ONTIME       Closed   \n",
       "8  2021-01-02 12:53:10  ONTIME       Closed   \n",
       "9  2021-01-01 03:17:49  ONTIME       Closed   \n",
       "\n",
       "                                                  6   \\\n",
       "0                                     closure_reason   \n",
       "1  Case Closed. Closed date : Fri Jan 01 05:36:42...   \n",
       "2  Case Closed. Closed date : 2021-01-02 12:49:26...   \n",
       "3  Case Closed. Closed date : 2021-01-04 13:56:41...   \n",
       "4                         Case Closed Case Noted       \n",
       "5  Case Closed. Closed date : Fri Jan 01 05:43:25...   \n",
       "6  Case Closed. Closed date : Fri Jan 01 05:50:34...   \n",
       "7  Case Closed. Closed date : 2021-01-04 08:48:56...   \n",
       "8  Case Closed. Closed date : 2021-01-02 12:53:10...   \n",
       "9  Case Closed. Closed date : Fri Jan 01 03:17:49...   \n",
       "\n",
       "                                    7                                  8   \\\n",
       "0                           case_title                            subject   \n",
       "1  Improper Storage of Trash (Barrels)            Public Works Department   \n",
       "2                  Parking Enforcement  Transportation - Traffic Division   \n",
       "3                         Notification            Mayor's 24 Hour Hotline   \n",
       "4                                 Fire            Mayor's 24 Hour Hotline   \n",
       "5          Poor Conditions of Property            Public Works Department   \n",
       "6          Poor Conditions of Property            Public Works Department   \n",
       "7     Work Hours-Loud Noise Complaints            Public Works Department   \n",
       "8                  Parking Enforcement  Transportation - Traffic Division   \n",
       "9         Requests for Street Cleaning            Public Works Department   \n",
       "\n",
       "                                 9   ...               19                  20  \\\n",
       "0                            reason  ...  police_district        neighborhood   \n",
       "1                  Code Enforcement  ...              C11          Dorchester   \n",
       "2  Enforcement & Abandoned Vehicles  ...              D14  Allston / Brighton   \n",
       "3                      Notification  ...               B2          Dorchester   \n",
       "4                      Notification  ...               B2          Dorchester   \n",
       "5                  Code Enforcement  ...              C11          Dorchester   \n",
       "6                  Code Enforcement  ...              C11          Dorchester   \n",
       "7               Highway Maintenance  ...              D14  Allston / Brighton   \n",
       "8  Enforcement & Abandoned Vehicles  ...               B2             Roxbury   \n",
       "9                   Street Cleaning  ...               B2        Mission Hill   \n",
       "\n",
       "                               21       22        23  \\\n",
       "0  neighborhood_services_district     ward  precinct   \n",
       "1                               5   Ward 7      0709   \n",
       "2                              15  Ward 22      2211   \n",
       "3                              13       13      1305   \n",
       "4                              13        7      0710   \n",
       "5                               7  Ward 13      1306   \n",
       "6                               7  Ward 13      1306   \n",
       "7                              15       21      2115   \n",
       "8                              13       12      1203   \n",
       "9                              14       10      1003   \n",
       "\n",
       "                                           24                25        26  \\\n",
       "0                        location_street_name  location_zipcode  latitude   \n",
       "1                             797 Columbia Rd             02125   42.3202   \n",
       "2                                50 Newton St             02135   42.3569   \n",
       "3                               693 Dudley St             02125   42.3594   \n",
       "4         INTERSECTION Nonquit St & Dudley St               NaN   42.3594   \n",
       "5                          83-93 Stoughton St             02125   42.3157   \n",
       "6                            14 Windermere Rd             02125   42.3146   \n",
       "7  INTERSECTION Strathmore Rd & Sutherland Rd               NaN   42.3594   \n",
       "8      INTERSECTION Elmore St & Kensington St               NaN   42.3594   \n",
       "9       INTERSECTION Wait St & Huntington Ave               NaN   42.3594   \n",
       "\n",
       "          27                    28  \n",
       "0  longitude                source  \n",
       "1   -71.0572  Citizens Connect App  \n",
       "2    -71.165  Citizens Connect App  \n",
       "3   -71.0587      Constituent Call  \n",
       "4   -71.0587      Constituent Call  \n",
       "5   -71.0623  Citizens Connect App  \n",
       "6   -71.0621  Citizens Connect App  \n",
       "7   -71.0587      Constituent Call  \n",
       "8   -71.0587      Constituent Call  \n",
       "9   -71.0587      Constituent Call  \n",
       "\n",
       "[10 rows x 29 columns]"
      ]
     },
     "execution_count": 15,
     "metadata": {},
     "output_type": "execute_result"
    }
   ],
   "source": [
    "# importing csv file for 2021 311 Service Requests\n",
    "import pandas as pd\n",
    "import numpy as np \n",
    "import matplotlib.pyplot as plt\n",
    "\n",
    "df = pd.read_csv(\"Documents/3 Junior Spring/Research in Applied Math- Data Science/tmpleos0nte.csv\", header=None, low_memory = False)                                                 \n",
    "array = df.values\n",
    "\n",
    "# viewing the beginning of the dataset\n",
    "df.head(10)"
   ]
  },
  {
   "cell_type": "markdown",
   "id": "d46ef503",
   "metadata": {},
   "source": [
    "### Initial insight from dataset\n",
    "> 273952 cases in 2021 311 Service Requests <br>\n",
    "> 27 features for each case <br>\n",
    "> Many entries are NaN (i.e. not entered)"
   ]
  },
  {
   "cell_type": "code",
   "execution_count": 16,
   "id": "a051fdfd",
   "metadata": {},
   "outputs": [
    {
     "name": "stdout",
     "output_type": "stream",
     "text": [
      "Total number of cases not closed: 29237\n",
      "Proportion of cases not closed: 10.67%\n",
      "Proportion of cases closed: 89.33%\n"
     ]
    }
   ],
   "source": [
    "# calculating total number of non-closed cases\n",
    "casesNotClosed = 0\n",
    "totalCases = 273952.\n",
    "for value in array[:, 5]:\n",
    "    if value != 'Closed':\n",
    "        casesNotClosed+= 1\n",
    "        \n",
    "print(\"Total number of cases not closed: \" + str(casesNotClosed))\n",
    "\n",
    "percentNotClosed = (casesNotClosed/totalCases)*100\n",
    "percentClosed = (1-casesNotClosed/totalCases)*100\n",
    "print(\"Proportion of cases not closed: \" + \"%0.2f\" % percentNotClosed + \"%\")\n",
    "print(\"Proportion of cases closed: \" + \"%0.2f\" % percentClosed + \"%\")"
   ]
  },
  {
   "cell_type": "code",
   "execution_count": 17,
   "id": "a72065f3",
   "metadata": {},
   "outputs": [
    {
     "data": {
      "image/png": "[encoded data removed]",
      "text/plain": [
       "<Figure size 432x288 with 1 Axes>"
      ]
     },
     "metadata": {},
     "output_type": "display_data"
    }
   ],
   "source": [
    "# creating pie chart for closed cases vs others\n",
    "closedStatus = np.array([percentNotClosed, percentClosed])\n",
    "closedStatusLabels = [\"Percent of Cases Not Closed\", \"Percent of Cases Closed\"]\n",
    "closedStatusColors = [\"red\", \"lime\"]\n",
    "\n",
    "plt.pie(closedStatus, labels = closedStatusLabels, colors = closedStatusColors)\n",
    "plt.show() "
   ]
  },
  {
   "cell_type": "code",
   "execution_count": 18,
   "id": "9c5cc403",
   "metadata": {},
   "outputs": [
    {
     "data": {
      "text/plain": [
       "array(['Animal Control', 'Boston Police Department',\n",
       "       'Boston Water & Sewer Commission', 'Consumer Affairs & Licensing',\n",
       "       'Inspectional Services', \"Mayor's 24 Hour Hotline\",\n",
       "       'Neighborhood Services', 'Parks & Recreation Department',\n",
       "       'Property Management', 'Public Works Department',\n",
       "       'Transportation - Traffic Division', 'subject'], dtype=object)"
      ]
     },
     "execution_count": 18,
     "metadata": {},
     "output_type": "execute_result"
    }
   ],
   "source": [
    "# finding number of unique entries of case titles\n",
    "np.unique(array[:, 8], return_index=False, return_inverse=False, return_counts=False, axis=None)"
   ]
  },
  {
   "cell_type": "code",
   "execution_count": 19,
   "id": "9a61ce40",
   "metadata": {},
   "outputs": [
    {
     "name": "stdout",
     "output_type": "stream",
     "text": [
      "Animal Control cases: 4106\n",
      "Boston Police Department cases: 543\n",
      "Boston Water & Sewer Commission cases: 1440\n",
      "Consumer Affairs & Licensing cases: 2\n",
      "Inspectional Services cases: 21786\n",
      "Mayor's 24 Hour Hotline cases: 11957\n",
      "Neighborhood Services cases: 40\n",
      "Parks & Recreation Department cases: 18011\n",
      "Property Management cases: 5182\n",
      "Public Works Department cases: 136274\n",
      "Transportation - Traffic Division cases: 74610\n",
      "subject cases: 1\n"
     ]
    }
   ],
   "source": [
    "# counting instances of each of the unique entries of case titles\n",
    "# counting instances of each of the unique entries of case titles\n",
    "requestTypes = ['Animal Control', 'Boston Police Department',\n",
    "       'Boston Water & Sewer Commission', 'Consumer Affairs & Licensing',\n",
    "       'Inspectional Services', \"Mayor's 24 Hour Hotline\",\n",
    "       'Neighborhood Services', 'Parks & Recreation Department',\n",
    "       'Property Management', 'Public Works Department',\n",
    "       'Transportation - Traffic Division', 'subject'] \n",
    "requestTypeCases = []\n",
    "\n",
    "for i in range(len(requestTypes)):\n",
    "    requestTypeCases.append(array[:, 8][array[:, 8] == requestTypes[i]].shape[0])\n",
    "    print(requestTypes[i] + \" cases: \" + str(requestTypeCases[i]))"
   ]
  },
  {
   "cell_type": "markdown",
   "id": "41ce0fa7",
   "metadata": {},
   "source": [
    "We may note that only one case was labeled 'subject', and only 42 other cases involved consumer affairs and neighborhood services. Hence, we will only plot the types of cases with 500+ occurrences on the histogram as those are negligible for the 29237 total cases. Therefore, we only have 29194 cases with relevant case titles."
   ]
  },
  {
   "cell_type": "code",
   "execution_count": 20,
   "id": "7439086f",
   "metadata": {
    "scrolled": false
   },
   "outputs": [
    {
     "data": {
      "image/png": "[encoded data removed]",
      "text/plain": [
       "<Figure size 864x720 with 1 Axes>"
      ]
     },
     "metadata": {
      "needs_background": "light"
     },
     "output_type": "display_data"
    }
   ],
   "source": [
    "fig = plt.figure(figsize=(12,10))\n",
    "ax = fig.add_axes([0,0,1,1])\n",
    "countLabels = ['Animal Control', 'BPD', 'Water/Sewage', 'Inspections', 'Hotline', 'Parks/Rec', 'Property', 'Public Works', 'Transportation']\n",
    "countValues = [4106, 543, 1440, 21786, 11957, 18011, 5182, 136274, 74610]\n",
    "ax.bar(countLabels, countValues)\n",
    "plt.title(\"Titles of 311 Service Calls in 2021\")\n",
    "plt.show()"
   ]
  },
  {
   "cell_type": "markdown",
   "id": "d82b2ba7",
   "metadata": {},
   "source": [
    "Similarly, we will create a histogram for the zip codes that created 311 calls."
   ]
  },
  {
   "cell_type": "code",
   "execution_count": 8,
   "id": "d72b43b2",
   "metadata": {},
   "outputs": [
    {
     "name": "stdout",
     "output_type": "stream",
     "text": [
      "['02125' '02135' '02125' ... nan '02124' '02109']\n",
      "['02125' '02135' '02125' ... '02126' '02124' '02109']\n",
      "212882\n"
     ]
    }
   ],
   "source": [
    "# finding number of unique entries of zip codes\n",
    "df25 = df.dropna(subset=[25])\n",
    "array25 = df25.values # dropping rows with no entries for zip code\n",
    "\n",
    "# comparing original column for zipcodes with new one\n",
    "print(array[1:, 25])\n",
    "print(array25[1:, 25])\n",
    "\n",
    "# finding number of service requests with zipcode entries\n",
    "print(len(array25))"
   ]
  },
  {
   "cell_type": "code",
   "execution_count": 9,
   "id": "7eb7fb6b",
   "metadata": {},
   "outputs": [
    {
     "data": {
      "text/plain": [
       "array(['02108', '02109', '02110', '02111', '02113', '02114', '02115',\n",
       "       '02116', '02118', '02119', '02120', '02121', '02122', '02124',\n",
       "       '02125', '02126', '02127', '02128', '02129', '02130', '02131',\n",
       "       '02132', '02133', '02134', '02135', '02136', '02163', '02199',\n",
       "       '02201', '02203', '02210', '02215', '02446', '02467'], dtype=object)"
      ]
     },
     "execution_count": 9,
     "metadata": {},
     "output_type": "execute_result"
    }
   ],
   "source": [
    "# finding number of unique entries of case titles\n",
    "np.unique(array25[1:, 25], return_index=False, return_inverse=False, return_counts=False, axis=None)"
   ]
  },
  {
   "cell_type": "code",
   "execution_count": 41,
   "id": "046fe5d2",
   "metadata": {},
   "outputs": [
    {
     "name": "stdout",
     "output_type": "stream",
     "text": [
      "Zipcodes in Boston: ['02108', '02109', '02110', '02111', '02113', '02114', '02115', '02116', '02118', '02119', '02120', '02121', '02122', '02124', '02125', '02126', '02127', '02128', '02129', '02130', '02131', '02132', '02133', '02134', '02135', '02136', '02163', '02199', '02201', '02203', '02210', '02215', '02446', '02467']\n",
      "\n",
      "Number of requests by zipcode [2872, 2111, 740, 2205, 4297, 5451, 4633, 11501, 13644, 9767, 3438, 7974, 7495, 15967, 12652, 7568, 21082, 16069, 7053, 11334, 8398, 7583, 3, 4882, 11121, 7790, 14, 151, 8, 8, 1452, 3488, 5, 125]\n"
     ]
    }
   ],
   "source": [
    "# finding the number of instances of each zipcode from 311 requests\n",
    "zipcodeArray = ['02108', '02109', '02110', '02111', '02113', '02114', '02115',\n",
    "       '02116', '02118', '02119', '02120', '02121', '02122', '02124',\n",
    "       '02125', '02126', '02127', '02128', '02129', '02130', '02131',\n",
    "       '02132', '02133', '02134', '02135', '02136', '02163', '02199',\n",
    "       '02201', '02203', '02210', '02215', '02446', '02467']\n",
    "zipcodeCount = []\n",
    "\n",
    "for i in range(len(zipcodeArray)):\n",
    "    zipcodeCount.append(array25[1:, 25][array25[1:, 25] == zipcodeArray[i]].shape[0])\n",
    "        \n",
    "print(\"Zipcodes in Boston: \" + str(zipcodeArray) + \"\\n\")\n",
    "print(\"Number of requests by zipcode \" + str(zipcodeCount))"
   ]
  },
  {
   "cell_type": "code",
   "execution_count": 42,
   "id": "b768debe",
   "metadata": {},
   "outputs": [
    {
     "data": {
      "image/png": "[encoded data removed]",
      "text/plain": [
       "<Figure size 432x288 with 1 Axes>"
      ]
     },
     "metadata": {},
     "output_type": "display_data"
    }
   ],
   "source": [
    "# Creating pie chart for zipcode 311 requests\n",
    "plt.pie(zipcodeCount)\n",
    "plt.show() "
   ]
  },
  {
   "cell_type": "markdown",
   "id": "455bd480",
   "metadata": {},
   "source": [
    "## We can now use other data sets (http://www.usa.com/rank/massachusetts-state--median-household-income--zip-code-rank.htm) to find the population and median household income for each zipcode."
   ]
  },
  {
   "cell_type": "markdown",
   "id": "ede949e5",
   "metadata": {},
   "source": [
    "# 4. Possibility for future research with this dataset"
   ]
  },
  {
   "cell_type": "markdown",
   "id": "bfc5ef43",
   "metadata": {},
   "source": [
    "### Regression between number of 311 requests per zipcode & average income per capita in said zipcode\n",
    "> Do people from lower income areas create more service requests?\n",
    "> Can this be tested for statistical significance?\n",
    "> Does this imply correlation between income status and poor infrastructure? \n",
    "### Plotting location of different types of 311 requests \n",
    "> Are certain areas more likely to have transportation issues? Public works issues? etc\n",
    "### Checking areas for non-completed 311 requests\n",
    "> Is this randomly distributed?"
   ]
  }
 ],
 "metadata": {
  "kernelspec": {
   "display_name": "Python 3",
   "language": "python",
   "name": "python3"
  },
  "language_info": {
   "codemirror_mode": {
    "name": "ipython",
    "version": 3
   },
   "file_extension": ".py",
   "mimetype": "text/x-python",
   "name": "python",
   "nbconvert_exporter": "python",
   "pygments_lexer": "ipython3",
   "version": "3.8.8"
  }
 },
 "nbformat": 4,
 "nbformat_minor": 5
}
